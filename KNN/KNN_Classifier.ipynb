{
 "cells": [
  {
   "cell_type": "markdown",
   "metadata": {},
   "source": [
    "#### KNN (KNeighbor Classifier) on Iris Dataset"
   ]
  },
  {
   "cell_type": "code",
   "execution_count": 9,
   "metadata": {},
   "outputs": [],
   "source": [
    "##Importing required libraries\n",
    "from sklearn.datasets import load_iris\n",
    "from sklearn.neighbors import KNeighborsClassifier\n",
    "from sklearn.metrics import accuracy_score, classification_report, confusion_matrix\n",
    "from sklearn.model_selection import train_test_split, cross_val_score\n",
    "import matplotlib.pyplot as plt\n",
    "import pandas as pd\n",
    "import re\n",
    "import seaborn as sns\n",
    "import numpy as np\n",
    "import time"
   ]
  },
  {
   "cell_type": "code",
   "execution_count": 10,
   "metadata": {},
   "outputs": [
    {
     "name": "stdout",
     "output_type": "stream",
     "text": [
      "Iris DataFrame with Species Values:\n",
      "      sepal length  sepal width  petal length  petal width  Class\n",
      "0             5.1          3.5           1.4          0.2      0\n",
      "1             4.9          3.0           1.4          0.2      0\n",
      "2             4.7          3.2           1.3          0.2      0\n",
      "3             4.6          3.1           1.5          0.2      0\n",
      "4             5.0          3.6           1.4          0.2      0\n",
      "..            ...          ...           ...          ...    ...\n",
      "145           6.7          3.0           5.2          2.3      2\n",
      "146           6.3          2.5           5.0          1.9      2\n",
      "147           6.5          3.0           5.2          2.0      2\n",
      "148           6.2          3.4           5.4          2.3      2\n",
      "149           5.9          3.0           5.1          1.8      2\n",
      "\n",
      "[150 rows x 5 columns]\n",
      "--------------------------------------------------------------------------------------------\n",
      "Iris DataFrame with Species Name:\n",
      "      sepal length  sepal width  petal length  petal width      Class\n",
      "0             5.1          3.5           1.4          0.2     Setosa\n",
      "1             4.9          3.0           1.4          0.2     Setosa\n",
      "2             4.7          3.2           1.3          0.2     Setosa\n",
      "3             4.6          3.1           1.5          0.2     Setosa\n",
      "4             5.0          3.6           1.4          0.2     Setosa\n",
      "..            ...          ...           ...          ...        ...\n",
      "145           6.7          3.0           5.2          2.3  virginica\n",
      "146           6.3          2.5           5.0          1.9  virginica\n",
      "147           6.5          3.0           5.2          2.0  virginica\n",
      "148           6.2          3.4           5.4          2.3  virginica\n",
      "149           5.9          3.0           5.1          1.8  virginica\n",
      "\n",
      "[150 rows x 5 columns]\n"
     ]
    }
   ],
   "source": [
    "## Importing Iris Data Set\n",
    "Full_data= load_iris()\n",
    "#print(Full_data)\n",
    "\n",
    "## Seperating data and target values from dataset\n",
    "Main_data = Full_data['data']\n",
    "Class = Full_data['target']\n",
    "\n",
    "## Converting to dataframes and assigning column names\n",
    "data_df= pd.DataFrame(Main_data, columns=['sepal length', 'sepal width', 'petal length', 'petal width'])\n",
    "class_df=pd.DataFrame(Class, columns=['Class'])\n",
    "\n",
    "##Replacing Class values with actual category\n",
    "setosa_df = class_df.replace(to_replace=[0], value='Setosa', regex=True)\n",
    "versicolor_df = setosa_df.replace(to_replace=[1], value='versicolor', regex=True)\n",
    "class_name_df = versicolor_df.replace(to_replace=[2], value='virginica', regex=True)\n",
    "#print(class_name_df)\n",
    "\n",
    "##Combining data Dataframe with class dataframe \n",
    "F1_df = pd.concat([data_df.reset_index(drop=True), class_df.reset_index(drop=True)], axis=1)        #Without class names\n",
    "print('Iris DataFrame with Species Values:\\n', F1_df)\n",
    "print('--------------------------------------------------------------------------------------------')\n",
    "F2_df = pd.concat([data_df.reset_index(drop=True), class_name_df.reset_index(drop=True)], axis=1)     #With class names\n",
    "print('Iris DataFrame with Species Name:\\n', F2_df)\n",
    "\n",
    "##Using iloc\n",
    "data_df= F1_df.iloc[:, :-1].values\n",
    "class_df = F1_df.iloc[:, 4].values\n"
   ]
  },
  {
   "cell_type": "code",
   "execution_count": 11,
   "metadata": {},
   "outputs": [
    {
     "name": "stdout",
     "output_type": "stream",
     "text": [
      "-------------------------------------------------------------------------------------------------------\n",
      "Train Data Count:  90\n",
      "Validation Data Count:  30\n",
      "Testing Data Count:  30\n",
      "-------------------------------------------------------------------------------------------------------\n"
     ]
    }
   ],
   "source": [
    "#Dividing the dataset into train (60%), validation (20%) and test set (20%).\n",
    "full_train_data, full_test_data, full_train_class, full_test_class = train_test_split(data_df, class_df, test_size=0.2, random_state=42)\n",
    "train_data, validation_data, train_class, validation_class = train_test_split(full_train_data, full_train_class, test_size=0.25, random_state=42)\n",
    "print('-------------------------------------------------------------------------------------------------------')\n",
    "print('Train Data Count: ', len(train_data))\n",
    "print('Validation Data Count: ', len(validation_data))\n",
    "print('Testing Data Count: ', len(full_test_data))\n",
    "print('-------------------------------------------------------------------------------------------------------')"
   ]
  },
  {
   "cell_type": "code",
   "execution_count": 12,
   "metadata": {},
   "outputs": [
    {
     "name": "stdout",
     "output_type": "stream",
     "text": [
      "Accuracy of KNN Model with default parameters (n_neighbors =5):  96.66666666666667 %\n"
     ]
    }
   ],
   "source": [
    "#Performing KNN Classification with default parameters\n",
    "KNN_Classifier = KNeighborsClassifier(n_neighbors=5, weights='uniform', algorithm='auto', leaf_size=30, p=2, metric='minkowski', metric_params=None, n_jobs=None)\n",
    "KNN_Classifier.fit(train_data, np.ravel(train_class))          #np.ravel()-->For Data conversion\n",
    "test_prediction = KNN_Classifier.predict(full_test_data)\n",
    "\n",
    "Accuracy = accuracy_score(full_test_class, test_prediction)*100\n",
    "print('Accuracy of KNN Model with default parameters (n_neighbors =5): ', Accuracy, '%')"
   ]
  },
  {
   "cell_type": "code",
   "execution_count": 13,
   "metadata": {},
   "outputs": [
    {
     "name": "stdout",
     "output_type": "stream",
     "text": [
      "Accuracy of KNN Model with k = 1:  90.0 %\n",
      "\n",
      "\n",
      "Time taken by K = 1:  0.0029916763305664062\n",
      "-------------------------------------------------------------------------------------------------\n",
      "Accuracy of KNN Model with k = 5:  93.33333333333333 %\n",
      "\n",
      "\n",
      "Time taken by K = 5:  0.005982398986816406\n",
      "-------------------------------------------------------------------------------------------------\n",
      "Accuracy of KNN Model with k = 10:  93.33333333333333 %\n",
      "\n",
      "\n",
      "Time taken by K = 10:  0.008011102676391602\n",
      "-------------------------------------------------------------------------------------------------\n",
      "Accuracy of KNN Model with k = 15:  93.33333333333333 %\n",
      "\n",
      "\n",
      "Time taken by K = 15:  0.010969400405883789\n",
      "-------------------------------------------------------------------------------------------------\n",
      "Accuracy of KNN Model with k = 20:  93.33333333333333 %\n",
      "\n",
      "\n",
      "Time taken by K = 20:  0.012989997863769531\n",
      "-------------------------------------------------------------------------------------------------\n",
      "Accuracy of KNN Model with k = 25:  96.66666666666667 %\n",
      "\n",
      "\n",
      "Time taken by K = 25:  0.016953468322753906\n",
      "-------------------------------------------------------------------------------------------------\n",
      "Accuracy of KNN Model with k = 30:  96.66666666666667 %\n",
      "\n",
      "\n",
      "Time taken by K = 30:  0.019945383071899414\n",
      "-------------------------------------------------------------------------------------------------\n",
      "Accuracy of KNN Model with k = 35:  93.33333333333333 %\n",
      "\n",
      "\n",
      "Time taken by K = 35:  0.02197432518005371\n",
      "-------------------------------------------------------------------------------------------------\n",
      "Accuracy List of all K values:\n",
      " [90.0, 93.33333333333333, 93.33333333333333, 93.33333333333333, 93.33333333333333, 96.66666666666667, 96.66666666666667, 93.33333333333333]\n"
     ]
    }
   ],
   "source": [
    "##Creating KNeighbors Classifier for multiple K values(hyperparameter) and testing it on validation data.\n",
    "\n",
    "Acc_list=[]                           #Accuracy List to hold accuracy of different values of K\n",
    "k_values=[1,5,10,15,20,25,30,35]      #Given K values\n",
    "Begin = time.time()                   #Timer\n",
    "for i in range(len(k_values)):\n",
    "    KNN_Classifier = KNeighborsClassifier(n_neighbors=k_values[i])\n",
    "    KNN_Classifier.fit(train_data, train_class)        \n",
    "    test_prediction = KNN_Classifier.predict(validation_data)\n",
    "    ## Generate Accuracy Score\n",
    "    Accuracy = accuracy_score(validation_class, test_prediction)*100\n",
    "    print('Accuracy of KNN Model with k = %d: ' %k_values[i], Accuracy, '%')\n",
    "    print('\\n')\n",
    "    end = time.time()\n",
    "    t = end - Begin\n",
    "    print('Time taken by K = %d: ' %k_values[i], t )\n",
    "    Acc_list.append(Accuracy)\n",
    "    print('-------------------------------------------------------------------------------------------------')\n",
    "\n",
    "print('Accuracy List of all K values:\\n', Acc_list)\n"
   ]
  },
  {
   "cell_type": "code",
   "execution_count": 14,
   "metadata": {},
   "outputs": [
    {
     "name": "stdout",
     "output_type": "stream",
     "text": [
      "Combined Accuracy and Parameter (K) Dataframe:\n",
      "    K_Value   Accuracy\n",
      "0        1  90.000000\n",
      "1        5  93.333333\n",
      "2       10  93.333333\n",
      "3       15  93.333333\n",
      "4       20  93.333333\n",
      "5       25  96.666667\n",
      "6       30  96.666667\n",
      "7       35  93.333333\n"
     ]
    },
    {
     "data": {
      "image/png": "[encoded data removed]",
      "text/plain": [
       "<Figure size 576x576 with 1 Axes>"
      ]
     },
     "metadata": {},
     "output_type": "display_data"
    }
   ],
   "source": [
    "##Creating a dataframe to store Accuracy values corresponding to their K values\n",
    "k_value_df = pd.DataFrame(k_values, columns=['K_Value'])\n",
    "Acc_df = pd.DataFrame(Acc_list, columns=['Accuracy'])\n",
    "k_Acc_df = pd.concat([k_value_df.reset_index(drop=True), Acc_df.reset_index(drop=True)], axis=1)\n",
    "print('Combined Accuracy and Parameter (K) Dataframe:\\n', k_Acc_df)\n",
    "\n",
    "##Seaborn Plot\n",
    "sns.set(style='whitegrid')\n",
    "fig, axes = plt.subplots(figsize=(8,8))\n",
    "sns.swarmplot('K_Value', 'Accuracy', data=k_Acc_df, hue='Accuracy', size=10)\n",
    "plt.show()"
   ]
  },
  {
   "cell_type": "markdown",
   "metadata": {},
   "source": [
    "On testing the KNeighbour classifier with Validation Data, there are 2 best found values of K(nearest neighbour)[K =25, 30] with maximum accuracy of 96.66 %."
   ]
  },
  {
   "cell_type": "code",
   "execution_count": 15,
   "metadata": {
    "scrolled": true
   },
   "outputs": [
    {
     "name": "stdout",
     "output_type": "stream",
     "text": [
      "For K =  25\n",
      "\n",
      "\n",
      "Confusion Matrix:\n",
      " [[10  0  0]\n",
      " [ 0  9  0]\n",
      " [ 0  0 11]]\n",
      "\n",
      "\n",
      "Classification Report:\n",
      "               precision    recall  f1-score   support\n",
      "\n",
      "      setosa       1.00      1.00      1.00        10\n",
      "  versicolor       1.00      1.00      1.00         9\n",
      "   virginica       1.00      1.00      1.00        11\n",
      "\n",
      "    accuracy                           1.00        30\n",
      "   macro avg       1.00      1.00      1.00        30\n",
      "weighted avg       1.00      1.00      1.00        30\n",
      "\n",
      "\n",
      "\n",
      "Time taken by K = 25:  0.008011579513549805\n",
      "\n",
      "\n",
      "Accuracy of KNN Model:\n",
      " 100.0 %\n",
      "----------------------------------------------------------------------------------------------------------------------\n",
      "For K =  30\n",
      "\n",
      "\n",
      "Confusion Matrix:\n",
      " [[10  0  0]\n",
      " [ 0  9  0]\n",
      " [ 0  0 11]]\n",
      "\n",
      "\n",
      "Classification Report:\n",
      "               precision    recall  f1-score   support\n",
      "\n",
      "      setosa       1.00      1.00      1.00        10\n",
      "  versicolor       1.00      1.00      1.00         9\n",
      "   virginica       1.00      1.00      1.00        11\n",
      "\n",
      "    accuracy                           1.00        30\n",
      "   macro avg       1.00      1.00      1.00        30\n",
      "weighted avg       1.00      1.00      1.00        30\n",
      "\n",
      "\n",
      "\n",
      "Time taken by K = 30:  0.015989303588867188\n",
      "\n",
      "\n",
      "Accuracy of KNN Model:\n",
      " 100.0 %\n",
      "----------------------------------------------------------------------------------------------------------------------\n"
     ]
    }
   ],
   "source": [
    "##Testing the model with test data for 2 values of K.\n",
    "\n",
    "K_value=[25,30]\n",
    "Begin = time.time() \n",
    "for i in range(len(K_value)):\n",
    "    KNN_Classifier = KNeighborsClassifier(n_neighbors=K_value[i])  #Default Parameters except n_neighbors\n",
    "    KNN_Classifier.fit(train_data, np.ravel(train_class))          #np.ravel()-->For Data conversion\n",
    "    test_prediction = KNN_Classifier.predict(full_test_data)       #Testing the model with test data\n",
    "    \n",
    "    cm = confusion_matrix(full_test_class, test_prediction)\n",
    "    print('For K = ', K_value[i])\n",
    "    print('\\n')\n",
    "    print('Confusion Matrix:\\n', cm)\n",
    "    print('\\n')\n",
    "    cr = classification_report(full_test_class, test_prediction, target_names=['setosa', 'versicolor', 'virginica'])\n",
    "    print('Classification Report:\\n', cr)\n",
    "    print('\\n')\n",
    "    end = time.time()\n",
    "    t = end - Begin\n",
    "    print('Time taken by K = %d: ' %K_value[i], t )\n",
    "    print('\\n')\n",
    "    Accuracy = accuracy_score(full_test_class, test_prediction)*100\n",
    "    print('Accuracy of KNN Model:\\n', Accuracy, '%')\n",
    "    print('----------------------------------------------------------------------------------------------------------------------')\n"
   ]
  },
  {
   "cell_type": "markdown",
   "metadata": {},
   "source": [
    "### Following are the observations of KNeighbor Classifier on Iris Dataset:\n",
    "\n",
    "#### Primary Opinion:\n",
    "1) Both K =25 and K =30 (best found parameters) has perfect accuracy of 100% on testing data, sometimes classifier produces 100 percent accuracy for small dataset. In addition, both training and testing data are too much similar.\n",
    "\n",
    "2) In order to pick one K value , I would select K = 25 because of the following reasons:\n",
    "\n",
    "- Takes significantly less time than K = 30, so less computational complexity and high speed of convergence.\n",
    "- In K = 30, there exists a case where for a particular data point if 15 nearest neighbor belong to class setosa and remaining 15 to class virginica or 10  nearest neighbors to each class, classifier will not be able to classify the data point and will provide poor performance.\n",
    "\n",
    "3) Another thing to notice is K = 10 and 15 also provides 100% accuracy on test data, but didn't provided maximum accuracy on validation data. So if we don't consider the fact of \"perform testing with 'best found parameters'\" as asked in question then I would have selected K = 10 as it has highest speed of convergence i.e. taking least amount of time to perform classification. \n",
    "_______________________________________________________________________________________________________________________________\n",
    "\n",
    "#### Secondary Opinion (May not be correct but worth mentioning):\n",
    "1) Both K = 25 and K = 30 are giving 100 % accuracy which can also point out to the fact that overfitting has happened i.e. Classifier has memorized the training data and their outputs instead of learning how to predict the output value for the data. In order to avoid overfitting, multiple techniques can be used such as K-fold cross validation, classifier hyperparamter tuning [KNeighborClassifier(algorithm, p, weights )] etc.\n",
    "\n",
    "2) Another reason of Overfitting would be model has learned noise instead of the actual data, so performing data normalization can solve this problem also. (For own Testing purpose, performed data normalization and achieved one K value with max accuracy.)\n",
    "    \n",
    "3) In order to pick one K value at validation stage , I would select K = 25 because of the following reasons:\n",
    "\n",
    "- Takes less time than K = 30, so less computational complexity and high speed of convergence.\n",
    "- In K = 30, there exists a case where if 15 nearest neighbor belong to class setosa and remaining 15 to class virginica or 10  nearest neighbors to each class, classifier will not be able to classify the data and will provide poor performance."
   ]
  }
 ],
 "metadata": {
  "kernelspec": {
   "display_name": "Python 3.7.4 64-bit ('657A': venv)",
   "language": "python",
   "name": "python37464bit657avenv96a92b1b80494f90b50c55cb7573aac6"
  },
  "language_info": {
   "codemirror_mode": {
    "name": "ipython",
    "version": 3
   },
   "file_extension": ".py",
   "mimetype": "text/x-python",
   "name": "python",
   "nbconvert_exporter": "python",
   "pygments_lexer": "ipython3",
   "version": "3.7.4"
  }
 },
 "nbformat": 4,
 "nbformat_minor": 2
}
