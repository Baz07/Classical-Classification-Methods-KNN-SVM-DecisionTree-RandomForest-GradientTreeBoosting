{
 "cells": [
  {
   "cell_type": "markdown",
   "metadata": {},
   "source": [
    "#### GradientTree Boosting Classifier"
   ]
  },
  {
   "cell_type": "code",
   "execution_count": 6,
   "metadata": {},
   "outputs": [],
   "source": [
    "##Import Required Libraries\n",
    "from sklearn.datasets import load_iris\n",
    "from sklearn.model_selection import cross_val_score\n",
    "from sklearn.model_selection import train_test_split\n",
    "from sklearn.ensemble import GradientBoostingClassifier\n",
    "import matplotlib.pyplot as plt\n",
    "import pandas as pd\n",
    "import seaborn as sns\n",
    "import numpy as np\n",
    "import time"
   ]
  },
  {
   "cell_type": "code",
   "execution_count": 7,
   "metadata": {},
   "outputs": [],
   "source": [
    "## Importing Iris Data Set\n",
    "Full_data= load_iris()\n",
    "#print(Full_data)\n",
    "\n",
    "## Seperating data and target values from dataset\n",
    "Main_data = Full_data['data']\n",
    "#print(len(Main_data))\n",
    "Class = Full_data['target']\n",
    "\n",
    "## Converting to dataframes and assigning column names\n",
    "data_df= pd.DataFrame(Main_data, columns=['sepal length', 'sepal width', 'petal length', 'petal width'])\n",
    "class_df=pd.DataFrame(Class, columns=['Class'])\n",
    "\n",
    "##Replacing Class values with actual category\n",
    "setosa_df = class_df.replace(to_replace=[0], value='Setosa', regex=True)\n",
    "versicolor_df = setosa_df.replace(to_replace=[1], value='versicolor', regex=True)\n",
    "class_name_df = versicolor_df.replace(to_replace=[2], value='virginica', regex=True)\n",
    "#print(class_name_df)\n",
    "\n"
   ]
  },
  {
   "cell_type": "code",
   "execution_count": 8,
   "metadata": {},
   "outputs": [
    {
     "name": "stdout",
     "output_type": "stream",
     "text": [
      "     sepal length  sepal width  petal length  petal width  Class\n",
      "0             5.1          3.5           1.4          0.2      0\n",
      "1             4.9          3.0           1.4          0.2      0\n",
      "2             4.7          3.2           1.3          0.2      0\n",
      "3             4.6          3.1           1.5          0.2      0\n",
      "4             5.0          3.6           1.4          0.2      0\n",
      "..            ...          ...           ...          ...    ...\n",
      "145           6.7          3.0           5.2          2.3      2\n",
      "146           6.3          2.5           5.0          1.9      2\n",
      "147           6.5          3.0           5.2          2.0      2\n",
      "148           6.2          3.4           5.4          2.3      2\n",
      "149           5.9          3.0           5.1          1.8      2\n",
      "\n",
      "[150 rows x 5 columns]\n",
      "-------------------------------------------------------------------------------------\n",
      "     sepal length  sepal width  petal length  petal width      Class\n",
      "0             5.1          3.5           1.4          0.2     Setosa\n",
      "1             4.9          3.0           1.4          0.2     Setosa\n",
      "2             4.7          3.2           1.3          0.2     Setosa\n",
      "3             4.6          3.1           1.5          0.2     Setosa\n",
      "4             5.0          3.6           1.4          0.2     Setosa\n",
      "..            ...          ...           ...          ...        ...\n",
      "145           6.7          3.0           5.2          2.3  virginica\n",
      "146           6.3          2.5           5.0          1.9  virginica\n",
      "147           6.5          3.0           5.2          2.0  virginica\n",
      "148           6.2          3.4           5.4          2.3  virginica\n",
      "149           5.9          3.0           5.1          1.8  virginica\n",
      "\n",
      "[150 rows x 5 columns]\n"
     ]
    }
   ],
   "source": [
    "##Combining data Dataframe with class dataframe \n",
    "F1_df = pd.concat([data_df.reset_index(drop=True), class_df.reset_index(drop=True)], axis=1)        #Without class names\n",
    "print(F1_df)\n",
    "print('-------------------------------------------------------------------------------------')\n",
    "F2_df = pd.concat([data_df.reset_index(drop=True), class_name_df.reset_index(drop=True)], axis=1)     #With class names\n",
    "print(F2_df)\n",
    "\n",
    "##Using iloc\n",
    "data_df= F1_df.iloc[:, :-1].values\n",
    "class_df = F1_df.iloc[:, 4].values"
   ]
  },
  {
   "cell_type": "code",
   "execution_count": 9,
   "metadata": {},
   "outputs": [],
   "source": [
    "## Divide the data int train nand test data\n",
    "full_train_data, full_test_data, full_train_class, full_test_class = train_test_split(data_df, class_df, test_size=0.2, random_state=42)"
   ]
  },
  {
   "cell_type": "code",
   "execution_count": 10,
   "metadata": {},
   "outputs": [
    {
     "name": "stdout",
     "output_type": "stream",
     "text": [
      "For 5 Estimators\n",
      "Classifier Accuracy is: 93.33333333333333 %\n",
      "Time:  0.0828099250793457\n",
      "---------------------------------------------------------------------------------------------------\n",
      "For 10 Estimators\n",
      "Classifier Accuracy is: 93.33333333333333 %\n",
      "Time:  0.2323780059814453\n",
      "---------------------------------------------------------------------------------------------------\n",
      "For 50 Estimators\n",
      "Classifier Accuracy is: 92.49999999999999 %\n",
      "Time:  0.9544479846954346\n",
      "---------------------------------------------------------------------------------------------------\n",
      "For 150 Estimators\n",
      "Classifier Accuracy is: 92.49999999999999 %\n",
      "Time:  2.86034893989563\n",
      "---------------------------------------------------------------------------------------------------\n",
      "For 200 Estimators\n",
      "Classifier Accuracy is: 92.49999999999999 %\n",
      "Time:  5.149256706237793\n",
      "---------------------------------------------------------------------------------------------------\n",
      "Accuracy list is:\n",
      " [93.33333333333333, 93.33333333333333, 92.49999999999999, 92.49999999999999, 92.49999999999999]\n"
     ]
    }
   ],
   "source": [
    "##Gradient Boosting Classifier Implementation\n",
    "\n",
    "est= [5, 10, 50, 150, 200]     #Number of Estimators\n",
    "Acc_list=[]                    #Accuracy List\n",
    "start = time.time()            #Timer\n",
    "for i in range(len(est)):\n",
    "    GBC = GradientBoostingClassifier(n_estimators=est[i], random_state=42)      #Taking max_depth =3 (Default), as asked in question\n",
    "    Values = cross_val_score(GBC, full_train_data, full_train_class, cv=10)\n",
    "    Accuracy = Values.mean()*100\n",
    "    end = (time.time() - start)\n",
    "    print('For %d Estimators' %est[i])\n",
    "    print('Classifier Accuracy is:', Accuracy, '%')\n",
    "    print('Time: ', end)\n",
    "    print('---------------------------------------------------------------------------------------------------')\n",
    "    Acc_list.append(Accuracy)\n",
    "\n",
    "print('Accuracy list is:\\n', Acc_list)"
   ]
  },
  {
   "cell_type": "code",
   "execution_count": 5,
   "metadata": {},
   "outputs": [
    {
     "name": "stdout",
     "output_type": "stream",
     "text": [
      "   Estimator   Accuracy\n",
      "0          5  93.333333\n",
      "1         10  93.333333\n",
      "2         50  92.500000\n",
      "3        150  92.500000\n",
      "4        200  92.500000\n"
     ]
    },
    {
     "data": {
      "image/png": "[encoded data removed]",
      "text/plain": [
       "<Figure size 576x576 with 1 Axes>"
      ]
     },
     "metadata": {},
     "output_type": "display_data"
    }
   ],
   "source": [
    "##COnverting the Accuracy list and Estimator list to dataframe\n",
    "Est_df = pd.DataFrame(est,columns=['Estimator'])\n",
    "Acc_df = pd.DataFrame(Acc_list, columns=['Accuracy'])\n",
    "\n",
    "E_Acc_df = pd.concat([Est_df.reset_index(drop=True), Acc_df.reset_index(drop=True)], axis=1)\n",
    "print(E_Acc_df)\n",
    "\n",
    "#Plot using seaborn\n",
    "sns.set(style='whitegrid'),\n",
    "fig, axes = plt.subplots(figsize=(8,8))\n",
    "sns.swarmplot('Estimator', 'Accuracy', data=E_Acc_df, hue='Accuracy', size=8)\n",
    "plt.title('Comparison between mean accuracies and Estimators')\n",
    "plt.show()"
   ]
  },
  {
   "cell_type": "markdown",
   "metadata": {},
   "source": [
    "#### Following are the observations:\n",
    "\n",
    "1) Maximum Accuracy of 93.33333333333333 % is obtained for two values of estimators, n_estimators=[5,10].\n",
    "\n",
    "2) In Gradient Tree Boosting classifier plot (refer above plot), **“number of grown trees = n_classes * n_estimators”** and I have got maximum accuracy for two different number of estimators (5,10). Now obviously value 10 will have more trees and 5 will have less, but since we know that both are providing same accuracy, we must look at which one is taking less time than other. And clearly value 5 is taking significantly less time as value 10 i.e. speed of convergence for 5 is high.\n",
    "\n",
    "#### Time taken by:\n",
    "- (estimators :5)= 0.08680272102355957 sec\n",
    "- (estimators :10)= 0.2423841953277588 sec\n"
   ]
  }
 ],
 "metadata": {
  "kernelspec": {
   "display_name": "Python 3.7.4 64-bit ('657A': venv)",
   "language": "python",
   "name": "python37464bit657avenv96a92b1b80494f90b50c55cb7573aac6"
  },
  "language_info": {
   "codemirror_mode": {
    "name": "ipython",
    "version": 3
   },
   "file_extension": ".py",
   "mimetype": "text/x-python",
   "name": "python",
   "nbconvert_exporter": "python",
   "pygments_lexer": "ipython3",
   "version": "3.7.4"
  }
 },
 "nbformat": 4,
 "nbformat_minor": 2
}
